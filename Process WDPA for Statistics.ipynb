{
 "cells": [
  {
   "cell_type": "markdown",
   "metadata": {},
   "source": [
    "### imports"
   ]
  },
  {
   "cell_type": "code",
   "execution_count": null,
   "metadata": {},
   "outputs": [],
   "source": [
    "import csv\n",
    "import pandas as pd\n",
    "from math import floor\n",
    "from functools import reduce"
   ]
  },
  {
   "cell_type": "markdown",
   "metadata": {},
   "source": [
    "### read in csv source into a pandas dataframe"
   ]
  },
  {
   "cell_type": "code",
   "execution_count": null,
   "metadata": {},
   "outputs": [],
   "source": [
    "csv_path = 'files/full.csv'\n",
    "df = pd.read_csv(csv_path)\n",
    "df.head(40)"
   ]
  },
  {
   "cell_type": "markdown",
   "metadata": {},
   "source": [
    "### get count by iso3 code column"
   ]
  },
  {
   "cell_type": "code",
   "execution_count": null,
   "metadata": {},
   "outputs": [],
   "source": [
    "dfc = dict(df.groupby(['ISO3']).count())\n",
    "iso3_count = dict(dfc['OBJECTID'])\n",
    "iso3_count"
   ]
  },
  {
   "cell_type": "markdown",
   "metadata": {},
   "source": [
    "### create a stats dataframe with ISO3 code to join back to the end result\n",
    "- filter out records that have zeros in the STATUS_YR col\n",
    "- use the `describe()` method to get statistics\n",
    "- filter out the columns to just mean, min, & max\n",
    "- convert the column types to integers\n",
    "- rename the columns for the final join to the output"
   ]
  },
  {
   "cell_type": "code",
   "execution_count": null,
   "metadata": {},
   "outputs": [],
   "source": [
    "temp_stats = df.loc[df['STATUS_YR'] > 0].groupby(['ISO3']).describe()['STATUS_YR'][['mean','min','max']]\n",
    "temp_stats = temp_stats.astype({'mean': 'int32','min': 'int32','max': 'int32'}, inplace=True)\n",
    "df_stats = temp_stats.rename(columns={'mean':'StatsYearAverage', 'max': 'StatsYearMax', 'min': 'StatsYearMin'})\n",
    "df_stats"
   ]
  },
  {
   "cell_type": "markdown",
   "metadata": {},
   "source": [
    "### setup the fields config"
   ]
  },
  {
   "cell_type": "code",
   "execution_count": null,
   "metadata": {},
   "outputs": [],
   "source": [
    "fields = [\n",
    "    {'name':'IUCN_CAT', 'prefix': 'IUCNCategory'},\n",
    "    {'name':'OWN_TYPE', 'prefix': 'OwnerType'},\n",
    "    {'name':'DESIG_TYPE', 'prefix': 'DesignType'},\n",
    "    {'name':'STATUS', 'prefix': 'Status'},\n",
    "    {'name':'GOV_TYPE', 'prefix': 'GovernmentType'}\n",
    "]"
   ]
  },
  {
   "cell_type": "markdown",
   "metadata": {},
   "source": [
    "### process the wdpa dataframe\n",
    "- create a crosstab dataframe for each `field` in the `fields` config giving us summary stats with unique values of fields for columns\n",
    "- join the protected area count\n",
    "- join the statistics\n",
    "\n",
    "merge multiple dataframes\n",
    "https://stackoverflow.com/questions/44327999/python-pandas-merge-multiple-dataframes"
   ]
  },
  {
   "cell_type": "code",
   "execution_count": null,
   "metadata": {},
   "outputs": [],
   "source": [
    "df_holder = []\n",
    "df1 = None\n",
    "output_merged = None\n",
    "for field in fields:\n",
    "    df1 = pd.crosstab(df.ISO3, df[field['name']]).reset_index()\n",
    "    for ind,col in enumerate(df1.columns):\n",
    "    # print (ind, col)\n",
    "        if ind > 0:\n",
    "            new_name = '{}_{}'.format(field['prefix'], col).replace(' ','_').replace('-', '_')\n",
    "            df1.rename(columns={col:new_name}, inplace=True)\n",
    "    \n",
    "    df_holder.append(df1)\n",
    "\n",
    "output_merged = reduce(lambda left, right: pd.merge(left, right, on=['ISO3'], how='outer'), df_holder)\n",
    "output_merged['Protected_Areas'] = output_merged['ISO3'].map(iso3_count)\n",
    "\n",
    "final_output = reduce(lambda left, right: pd.merge(left, right, on=['ISO3'], how='outer'), [output_merged, df_stats])\n",
    "final_output.head(25)"
   ]
  },
  {
   "cell_type": "markdown",
   "metadata": {},
   "source": [
    "### export final result to CSV"
   ]
  },
  {
   "cell_type": "code",
   "execution_count": null,
   "metadata": {},
   "outputs": [],
   "source": [
    "final_output.to_csv('files/processed.csv')"
   ]
  }
 ],
 "metadata": {
  "kernelspec": {
   "display_name": "Python 3",
   "language": "python",
   "name": "python3"
  },
  "language_info": {
   "codemirror_mode": {
    "name": "ipython",
    "version": 3
   },
   "file_extension": ".py",
   "mimetype": "text/x-python",
   "name": "python",
   "nbconvert_exporter": "python",
   "pygments_lexer": "ipython3",
   "version": "3.7.3"
  }
 },
 "nbformat": 4,
 "nbformat_minor": 4
}
